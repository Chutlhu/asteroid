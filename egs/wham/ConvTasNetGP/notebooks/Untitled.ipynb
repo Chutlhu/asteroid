{
 "cells": [
  {
   "cell_type": "code",
   "execution_count": 1,
   "id": "4c147a2c",
   "metadata": {},
   "outputs": [],
   "source": [
    "import torch"
   ]
  },
  {
   "cell_type": "code",
   "execution_count": 17,
   "id": "998a7310",
   "metadata": {},
   "outputs": [
    {
     "name": "stdout",
     "output_type": "stream",
     "text": [
      "torch.Size([6, 3, 10, 10])\n",
      "torch.Size([6, 3, 10, 10])\n"
     ]
    }
   ],
   "source": [
    "B = 6\n",
    "K = 3\n",
    "D = 10\n",
    "\n",
    "_mixture = torch.randn(B,1,D)\n",
    "identity_mat = torch.eye(D,D)[None,None]\n",
    "EPS = 1e-6\n",
    "\n",
    "Ck = torch.zeros(B,K,D,D)\n",
    "\n",
    "for b in range(B):\n",
    "    for i in range(K):\n",
    "        _Ck = torch.randn(D,D)\n",
    "        Ck[b,i,:,:] = _Ck @ _Ck.T\n",
    "        \n",
    "cov_est_targets = Ck\n",
    "_est_filters = torch.linalg.solve(\n",
    "    cov_est_targets.sum(dim=1, keepdim=True).transpose(-2, -1),\n",
    "    cov_est_targets.transpose(-2, -1)).transpose(-2, -1)\n",
    "print(cov_est_targets.shape)\n",
    "print(_est_filters.shape)"
   ]
  },
  {
   "cell_type": "code",
   "execution_count": 21,
   "id": "936c5cd6",
   "metadata": {},
   "outputs": [],
   "source": [
    "mdot = lambda A, B : torch.einsum('...ij,...jk->...ik', A, B)\n",
    "            \n",
    "# Covariance of the estimate\n",
    "Ck = cov_est_targets\n",
    "# aka Wiener Filter\n",
    "Wk = _est_filters # = Ck @ inv(Cx)\n",
    "# Posterior mean\n",
    "muk = torch.einsum(\n",
    "     '...ij,...j->...i', Wk, _mixture)\n",
    "WkCk = mdot(Wk, Ck)\n",
    "# Posterio covs\n",
    "pCk = Ck - WkCk + identity_mat * EPS\n",
    "# Covariance of the mix \n",
    "Cx = torch.sum(Ck, dim=1).unsqueeze(1)\n",
    "\n",
    "# Inverses\n",
    "Ck_inv = torch.linalg.solve(cov_est_targets, identity_mat)\n",
    "pCk_inv = Ck_inv + torch.linalg.solve((Cx - Ck), identity_mat)\n",
    "\n",
    "# Log det\n",
    "_logdet_Ck = torch.linalg.slogdet(Ck)[-1]\n",
    "_logdet_pCk = torch.linalg.slogdet(pCk_inv)[-1]\n",
    "\n",
    "# mu_T @ pCk_inv @ mu\n",
    "pCkinv_mu = torch.einsum('bkij,bkj->bki', pCk_inv, muk)\n",
    "mut_pCkinv_mu = torch.einsum('bkj,bkj->bk', muk, pCkinv_mu)\n",
    "\n",
    "# trace\n",
    "_tr = torch.diagonal(WkCk, dim1=-2, dim2=-1).sum(dim=-1)\n",
    "\n",
    "# Loss\n",
    "loss_kl = torch.sum(0.5 * _tr + _logdet_Ck +  _logdet_pCk + mut_pCkinv_mu, dim=-1)"
   ]
  },
  {
   "cell_type": "code",
   "execution_count": null,
   "id": "35e720c4",
   "metadata": {
    "collapsed": true
   },
   "outputs": [],
   "source": []
  }
 ],
 "metadata": {
  "kernelspec": {
   "display_name": "Python 3 (ipykernel)",
   "language": "python",
   "name": "python3"
  },
  "language_info": {
   "codemirror_mode": {
    "name": "ipython",
    "version": 3
   },
   "file_extension": ".py",
   "mimetype": "text/x-python",
   "name": "python",
   "nbconvert_exporter": "python",
   "pygments_lexer": "ipython3",
   "version": "3.8.10"
  }
 },
 "nbformat": 4,
 "nbformat_minor": 5
}
